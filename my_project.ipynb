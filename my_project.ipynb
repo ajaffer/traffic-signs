{
 "cells": [
  {
   "cell_type": "markdown",
   "metadata": {},
   "source": [
    "---\n",
    "## Step 0: Load The Data"
   ]
  },
  {
   "cell_type": "code",
   "execution_count": 71,
   "metadata": {
    "collapsed": true
   },
   "outputs": [],
   "source": [
    "# Load pickled data\n",
    "import pickle\n",
    "\n",
    "training_file = './data/train.p'\n",
    "validation_file= './data/valid.p'\n",
    "testing_file = './data/test.p'\n",
    "\n",
    "with open(training_file, mode='rb') as f:\n",
    "    train = pickle.load(f)\n",
    "with open(validation_file, mode='rb') as f:\n",
    "    valid = pickle.load(f)\n",
    "with open(testing_file, mode='rb') as f:\n",
    "    test = pickle.load(f)\n",
    "    \n",
    "X_train, y_train = train['features'], train['labels']\n",
    "X_valid, y_valid = valid['features'], valid['labels']\n",
    "X_test, y_test = test['features'], test['labels']"
   ]
  },
  {
   "cell_type": "markdown",
   "metadata": {},
   "source": [
    "### Provide a Basic Summary of the Data Set Using Python, Numpy and/or Pandas"
   ]
  },
  {
   "cell_type": "code",
   "execution_count": 72,
   "metadata": {},
   "outputs": [
    {
     "name": "stdout",
     "output_type": "stream",
     "text": [
      "Number of training examples = 34799\n",
      "Number of validation examples = 4410\n",
      "Number of testing examples = 12630\n",
      "Image data shape = (32, 32, 3)\n",
      "Number of classes = 43\n"
     ]
    }
   ],
   "source": [
    "n_train = X_train.shape[0]\n",
    "n_validation = X_valid.shape[0]\n",
    "n_test = X_test.shape[0]\n",
    "image_shape = (X_train.shape[1], X_train.shape[2], X_train.shape[3])\n",
    "n_classes = len(set(y_test))\n",
    "\n",
    "print(\"Number of training examples =\", n_train)\n",
    "print(\"Number of validation examples =\", n_validation)\n",
    "print(\"Number of testing examples =\", n_test)\n",
    "print(\"Image data shape =\", image_shape)\n",
    "print(\"Number of classes =\", n_classes)"
   ]
  },
  {
   "cell_type": "markdown",
   "metadata": {},
   "source": [
    "### Include an exploratory visualization of the dataset"
   ]
  },
  {
   "cell_type": "code",
   "execution_count": 73,
   "metadata": {},
   "outputs": [
    {
     "name": "stdout",
     "output_type": "stream",
     "text": [
      "2\n"
     ]
    },
    {
     "data": {
      "image/png": "[encoded data removed]",
      "text/plain": [
       "<matplotlib.figure.Figure at 0x1471b8160>"
      ]
     },
     "metadata": {},
     "output_type": "display_data"
    }
   ],
   "source": [
    "import random\n",
    "import numpy as np\n",
    "import matplotlib.pyplot as plt\n",
    "%matplotlib inline\n",
    "\n",
    "index = random.randint(0, len(X_train))\n",
    "image = X_train[index].squeeze()\n",
    "\n",
    "plt.figure(figsize=(1,1))\n",
    "plt.imshow(image)\n",
    "print(y_train[index])"
   ]
  },
  {
   "cell_type": "markdown",
   "metadata": {},
   "source": [
    "### Pre-process the Data Set (normalization, grayscale, etc.)"
   ]
  },
  {
   "cell_type": "code",
   "execution_count": 74,
   "metadata": {},
   "outputs": [
    {
     "name": "stdout",
     "output_type": "stream",
     "text": [
      "(34799, 32, 32, 1)\n"
     ]
    }
   ],
   "source": [
    "from sklearn.utils import shuffle\n",
    "from skimage import exposure\n",
    "\n",
    "import matplotlib.pyplot as plot\n",
    "import cv2\n",
    "\n",
    "def normalize(x):\n",
    "    std = np.std(x)\n",
    "    mean = np.mean(x)\n",
    "    return (x-mean)/std\n",
    "\n",
    "def clahe(img):\n",
    "    img = cv2.cvtColor( img, cv2.COLOR_RGB2GRAY )\n",
    "    clahe = cv2.createCLAHE()\n",
    "    img = clahe.apply(img)    \n",
    "    return img.reshape(img.shape + (1,))\n",
    "\n",
    "\n",
    "\n",
    "def clahe_images(images):\n",
    "    clahed_images = []\n",
    "    for index in range(len(images)):\n",
    "        clahed_images.append(clahe(images[index]))\n",
    "    return clahed_images\n",
    "        \n",
    "\n",
    "    \n",
    "  \n",
    "\n",
    "X_train = clahe_images(X_train)\n",
    "X_valid = clahe_images(X_valid)\n",
    "X_test = clahe_images(X_test)\n",
    "\n",
    "X_train = normalize(X_train)\n",
    "X_valid = normalize(X_valid)\n",
    "X_test = normalize(X_test)\n",
    "\n",
    "\n",
    "\n",
    "print(X_train.shape)\n",
    "\n",
    "# img = clahe(X_train[220:221][0])\n",
    "# plot.imshow(img)\n",
    "\n",
    "# ?img = (X_train[220:221][0])\n",
    "# plot.imshow(img)\n",
    "\n",
    "\n",
    "X_train, y_train = shuffle(X_train, y_train)"
   ]
  },
  {
   "cell_type": "markdown",
   "metadata": {},
   "source": [
    "### Model Architecture"
   ]
  },
  {
   "cell_type": "code",
   "execution_count": 75,
   "metadata": {
    "collapsed": true
   },
   "outputs": [],
   "source": [
    "import tensorflow as tf\n",
    "\n",
    "EPOCHS = 20\n",
    "BATCH_SIZE = 128"
   ]
  },
  {
   "cell_type": "code",
   "execution_count": 76,
   "metadata": {
    "collapsed": true
   },
   "outputs": [],
   "source": [
    "from tensorflow.contrib.layers import flatten\n",
    "\n",
    "def LeNet(x):    \n",
    "    mu = 0\n",
    "    sigma = 0.1\n",
    "    \n",
    "    #Layer 1: Convolutional. Input = 32x32x1. Output = 28x28x6.\n",
    "    LeNet.conv1_W = tf.Variable(tf.truncated_normal(shape=(5, 5, 1, 6), mean = mu, stddev = sigma))\n",
    "    conv1_b = tf.Variable(tf.zeros(6))\n",
    "    LeNet.conv1   = tf.nn.conv2d(x, LeNet.conv1_W, strides=[1, 1, 1, 1], padding='VALID') + conv1_b\n",
    "\n",
    "    #Activation.\n",
    "    LeNet.conv1 = tf.nn.relu(LeNet.conv1)\n",
    "\n",
    "    #Pooling. Input = 28x28x6. Output = 14x14x6.\n",
    "    LeNet.conv1 = tf.nn.max_pool(LeNet.conv1, ksize=[1, 2, 2, 1], strides=[1, 2, 2, 1], padding='VALID')\n",
    "\n",
    "    #Layer 2: Convolutional. Output = 10x10x16.\n",
    "    LeNet.conv2_W = tf.Variable(tf.truncated_normal(shape=(5, 5, 6, 16), mean = mu, stddev = sigma))\n",
    "    conv2_b = tf.Variable(tf.zeros(16))\n",
    "    LeNet.conv2   = tf.nn.conv2d(LeNet.conv1, LeNet.conv2_W, strides=[1, 1, 1, 1], padding='VALID') + conv2_b\n",
    "    \n",
    "    #Activation.\n",
    "    LeNet.conv2 = tf.nn.relu(LeNet.conv2)\n",
    "\n",
    "    #Pooling. Input = 10x10x16. Output = 5x5x16.\n",
    "    LeNet.conv2 = tf.nn.max_pool(LeNet.conv2, ksize=[1, 2, 2, 1], strides=[1, 2, 2, 1], padding='VALID')\n",
    "\n",
    "    #Flatten. Input = 5x5x16. Output = 400.\n",
    "    LeNet.fc0   = flatten(LeNet.conv2)\n",
    "    \n",
    "    #Layer 3: Fully Connected. Input = 400. Output = 120.\n",
    "    fc1_W = tf.Variable(tf.truncated_normal(shape=(400, 120), mean = mu, stddev = sigma))\n",
    "    fc1_b = tf.Variable(tf.zeros(120))\n",
    "    LeNet.fc1   = tf.matmul(LeNet.fc0, fc1_W) + fc1_b\n",
    "    \n",
    "    #Activation.\n",
    "    LeNet.fc1    = tf.nn.relu(LeNet.fc1)\n",
    "\n",
    "    #Layer 4: Fully Connected. Input = 120. Output = 84.\n",
    "    fc2_W  = tf.Variable(tf.truncated_normal(shape=(120, 84), mean = mu, stddev = sigma))\n",
    "    fc2_b  = tf.Variable(tf.zeros(84))\n",
    "    LeNet.fc2    = tf.matmul(LeNet.fc1, fc2_W) + fc2_b\n",
    "    \n",
    "    #Activation.\n",
    "    LeNet.fc2    = tf.nn.relu(LeNet.fc2)\n",
    "\n",
    "    #Layer 5: Fully Connected. Input = 84. Output = 43.\n",
    "    fc3_W  = tf.Variable(tf.truncated_normal(shape=(84, 43), mean = mu, stddev = sigma))\n",
    "    fc3_b  = tf.Variable(tf.zeros(43))\n",
    "    logits = tf.matmul(LeNet.fc2, fc3_W) + fc3_b\n",
    "    \n",
    "    return logits"
   ]
  },
  {
   "cell_type": "code",
   "execution_count": 77,
   "metadata": {
    "collapsed": true
   },
   "outputs": [],
   "source": [
    "x = tf.placeholder(tf.float32, (None, 32, 32, 1))\n",
    "y = tf.placeholder(tf.int32, (None))\n",
    "one_hot_y = tf.one_hot(y, 43)"
   ]
  },
  {
   "cell_type": "code",
   "execution_count": 78,
   "metadata": {
    "collapsed": true
   },
   "outputs": [],
   "source": [
    "rate = 0.003\n",
    "logits = LeNet(x)\n",
    "cross_entropy = tf.nn.softmax_cross_entropy_with_logits(labels=one_hot_y, logits=logits)\n",
    "loss_operation = tf.reduce_mean(cross_entropy)\n",
    "optimizer = tf.train.AdamOptimizer(learning_rate = rate)\n",
    "training_operation = optimizer.minimize(loss_operation)"
   ]
  },
  {
   "cell_type": "code",
   "execution_count": 79,
   "metadata": {
    "collapsed": true
   },
   "outputs": [],
   "source": [
    "correct_prediction = tf.equal(tf.argmax(logits, 1), tf.argmax(one_hot_y, 1))\n",
    "accuracy_operation = tf.reduce_mean(tf.cast(correct_prediction, tf.float32))\n",
    "saver = tf.train.Saver()\n",
    "\n",
    "def evaluate(X_data, y_data):\n",
    "    num_examples = len(X_data)\n",
    "    total_accuracy = 0\n",
    "    sess = tf.get_default_session()\n",
    "    for offset in range(0, num_examples, BATCH_SIZE):\n",
    "        batch_x, batch_y = X_data[offset:offset+BATCH_SIZE], y_data[offset:offset+BATCH_SIZE]\n",
    "        accuracy = sess.run(accuracy_operation, feed_dict={x: batch_x, y: batch_y})\n",
    "        total_accuracy += (accuracy * len(batch_x))\n",
    "    return total_accuracy / num_examples"
   ]
  },
  {
   "cell_type": "markdown",
   "metadata": {},
   "source": [
    "### Train, Validate and Test the Model"
   ]
  },
  {
   "cell_type": "markdown",
   "metadata": {},
   "source": [
    "A validation set can be used to assess how well the model is performing. A low accuracy on the training and validation\n",
    "sets imply underfitting. A high accuracy on the training set but low accuracy on the validation set implies overfitting."
   ]
  },
  {
   "cell_type": "code",
   "execution_count": 80,
   "metadata": {},
   "outputs": [
    {
     "name": "stdout",
     "output_type": "stream",
     "text": [
      "Training...\n",
      "\n",
      "EPOCH 1 ...\n",
      "Validation Accuracy = 0.925\n",
      "\n",
      "EPOCH 1 ...\n",
      "Training Accuracy = 0.964\n",
      "\n",
      "EPOCH 2 ...\n",
      "Validation Accuracy = 0.939\n",
      "\n",
      "EPOCH 2 ...\n",
      "Training Accuracy = 0.983\n",
      "\n",
      "EPOCH 3 ...\n",
      "Validation Accuracy = 0.934\n",
      "\n",
      "EPOCH 3 ...\n",
      "Training Accuracy = 0.987\n",
      "\n",
      "EPOCH 4 ...\n",
      "Validation Accuracy = 0.940\n",
      "\n",
      "EPOCH 4 ...\n",
      "Training Accuracy = 0.990\n",
      "\n",
      "EPOCH 5 ...\n",
      "Validation Accuracy = 0.943\n",
      "\n",
      "EPOCH 5 ...\n",
      "Training Accuracy = 0.990\n",
      "\n",
      "EPOCH 6 ...\n",
      "Validation Accuracy = 0.928\n",
      "\n",
      "EPOCH 6 ...\n",
      "Training Accuracy = 0.979\n",
      "\n",
      "EPOCH 7 ...\n",
      "Validation Accuracy = 0.934\n",
      "\n",
      "EPOCH 7 ...\n",
      "Training Accuracy = 0.991\n",
      "\n",
      "EPOCH 8 ...\n",
      "Validation Accuracy = 0.951\n",
      "\n",
      "EPOCH 8 ...\n",
      "Training Accuracy = 0.995\n",
      "\n",
      "EPOCH 9 ...\n",
      "Validation Accuracy = 0.944\n",
      "\n",
      "EPOCH 9 ...\n",
      "Training Accuracy = 0.994\n",
      "\n",
      "EPOCH 10 ...\n",
      "Validation Accuracy = 0.950\n",
      "\n",
      "EPOCH 10 ...\n",
      "Training Accuracy = 0.994\n",
      "\n",
      "EPOCH 11 ...\n",
      "Validation Accuracy = 0.955\n",
      "\n",
      "EPOCH 11 ...\n",
      "Training Accuracy = 0.996\n",
      "\n",
      "EPOCH 12 ...\n",
      "Validation Accuracy = 0.942\n",
      "\n",
      "EPOCH 12 ...\n",
      "Training Accuracy = 0.987\n",
      "\n",
      "EPOCH 13 ...\n",
      "Validation Accuracy = 0.960\n",
      "\n",
      "EPOCH 13 ...\n",
      "Training Accuracy = 0.997\n",
      "\n",
      "EPOCH 14 ...\n",
      "Validation Accuracy = 0.956\n",
      "\n",
      "EPOCH 14 ...\n",
      "Training Accuracy = 0.995\n",
      "\n",
      "EPOCH 15 ...\n",
      "Validation Accuracy = 0.949\n",
      "\n",
      "EPOCH 15 ...\n",
      "Training Accuracy = 0.994\n",
      "\n",
      "EPOCH 16 ...\n",
      "Validation Accuracy = 0.959\n",
      "\n",
      "EPOCH 16 ...\n",
      "Training Accuracy = 0.996\n",
      "\n",
      "EPOCH 17 ...\n",
      "Validation Accuracy = 0.954\n",
      "\n",
      "EPOCH 17 ...\n",
      "Training Accuracy = 0.991\n",
      "\n",
      "EPOCH 18 ...\n",
      "Validation Accuracy = 0.950\n",
      "\n",
      "EPOCH 18 ...\n",
      "Training Accuracy = 0.997\n",
      "\n",
      "EPOCH 19 ...\n",
      "Validation Accuracy = 0.955\n",
      "\n",
      "EPOCH 19 ...\n",
      "Training Accuracy = 0.996\n",
      "\n",
      "EPOCH 20 ...\n",
      "Validation Accuracy = 0.955\n",
      "\n",
      "EPOCH 20 ...\n",
      "Training Accuracy = 0.998\n",
      "\n",
      "Model saved\n"
     ]
    }
   ],
   "source": [
    "with tf.Session() as sess:\n",
    "    sess.run(tf.global_variables_initializer())\n",
    "    num_examples = len(X_train)\n",
    "    \n",
    "    print(\"Training...\")\n",
    "    print()\n",
    "    for i in range(EPOCHS):\n",
    "        X_train, y_train = shuffle(X_train, y_train)\n",
    "        for offset in range(0, num_examples, BATCH_SIZE):\n",
    "            end = offset + BATCH_SIZE\n",
    "            batch_x, batch_y = X_train[offset:end], y_train[offset:end]\n",
    "            sess.run(training_operation, feed_dict={x: batch_x, y: batch_y})\n",
    "            \n",
    "        validation_accuracy = evaluate(X_valid, y_valid)\n",
    "        print(\"EPOCH {} ...\".format(i+1))\n",
    "        print(\"Validation Accuracy = {:.3f}\".format(validation_accuracy))\n",
    "        print()\n",
    "\n",
    "        training_accuracy = evaluate(X_train, y_train)\n",
    "        print(\"EPOCH {} ...\".format(i+1))\n",
    "        print(\"Training Accuracy = {:.3f}\".format(training_accuracy))\n",
    "        print()\n",
    "        \n",
    "        \n",
    "    saver.save(sess, './lenet')\n",
    "    print(\"Model saved\")"
   ]
  },
  {
   "cell_type": "code",
   "execution_count": 81,
   "metadata": {},
   "outputs": [
    {
     "name": "stdout",
     "output_type": "stream",
     "text": [
      "Test Accuracy = 0.932\n"
     ]
    }
   ],
   "source": [
    "with tf.Session() as sess:\n",
    "    saver.restore(sess, tf.train.latest_checkpoint('.'))\n",
    "\n",
    "    test_accuracy = evaluate(X_test, y_test)\n",
    "    print(\"Test Accuracy = {:.3f}\".format(test_accuracy))"
   ]
  },
  {
   "cell_type": "markdown",
   "metadata": {},
   "source": [
    "---\n",
    "\n",
    "## Step 3: Test a Model on New Images\n"
   ]
  },
  {
   "cell_type": "markdown",
   "metadata": {},
   "source": [
    "### Load and Output the Images"
   ]
  },
  {
   "cell_type": "code",
   "execution_count": 138,
   "metadata": {},
   "outputs": [
    {
     "data": {
      "image/png": "[encoded data removed]",
      "text/plain": [
       "<matplotlib.figure.Figure at 0x11786f1d0>"
      ]
     },
     "metadata": {},
     "output_type": "display_data"
    },
    {
     "data": {
      "image/png": "[encoded data removed]",
      "text/plain": [
       "<matplotlib.figure.Figure at 0x1471ae2e8>"
      ]
     },
     "metadata": {},
     "output_type": "display_data"
    },
    {
     "data": {
      "image/png": "[encoded data removed]",
      "text/plain": [
       "<matplotlib.figure.Figure at 0x124e64278>"
      ]
     },
     "metadata": {},
     "output_type": "display_data"
    },
    {
     "data": {
      "image/png": "[encoded data removed]",
      "text/plain": [
       "<matplotlib.figure.Figure at 0x11a5564a8>"
      ]
     },
     "metadata": {},
     "output_type": "display_data"
    },
    {
     "data": {
      "image/png": "[encoded data removed]",
      "text/plain": [
       "<matplotlib.figure.Figure at 0x125bd8198>"
      ]
     },
     "metadata": {},
     "output_type": "display_data"
    }
   ],
   "source": [
    "import tensorflow as tf\n",
    "import cv2\n",
    "import matplotlib.pyplot as plot\n",
    "import random\n",
    "\n",
    "%matplotlib inline\n",
    "web_x=[]\n",
    "web_y=[13,22,0,25,3]\n",
    "\n",
    "def readWebImages(shape=(32,32), resize=False):\n",
    "    global web_x\n",
    "    web_x=[]\n",
    "    web_x.append(cv2.resize(cv2.imread(\"./web-images/_13_1.png\", cv2.IMREAD_COLOR), shape) if resize else cv2.imread(\"_13_1.png\", cv2.IMREAD_COLOR))\n",
    "    web_x.append(cv2.resize(cv2.imread(\"./web-images/_22.png\", cv2.IMREAD_COLOR), shape))\n",
    "    web_x.append(cv2.resize(cv2.imread(\"./web-images/_0.jpg\", cv2.IMREAD_COLOR), shape))\n",
    "    web_x.append(cv2.resize(cv2.imread(\"./web-images/_25.jpg\", cv2.IMREAD_COLOR), shape))\n",
    "    web_x.append(cv2.resize(cv2.imread(\"./web-images/_3.jpg\", cv2.IMREAD_COLOR), shape))\n",
    "\n",
    "\n",
    "readWebImages(shape=(32,32), resize=True)    \n",
    "for index in range(len(web_x)):\n",
    "    image = web_x[index]\n",
    "    \n",
    "    b,g,r = cv2.split(image)\n",
    "    image = cv2.merge([r,g,b])\n",
    "\n",
    "    \n",
    "    plot.figure(figsize=(1,1))\n",
    "    plot.imshow(image.squeeze())"
   ]
  },
  {
   "cell_type": "markdown",
   "metadata": {},
   "source": [
    "### Predict the Sign Type for Each Image"
   ]
  },
  {
   "cell_type": "code",
   "execution_count": 139,
   "metadata": {
    "collapsed": true
   },
   "outputs": [],
   "source": [
    "web_x = clahe_images(web_x)\n",
    "web_x = normalize(web_x)"
   ]
  },
  {
   "cell_type": "markdown",
   "metadata": {},
   "source": [
    "### Analyze Performance"
   ]
  },
  {
   "cell_type": "code",
   "execution_count": 140,
   "metadata": {},
   "outputs": [
    {
     "name": "stdout",
     "output_type": "stream",
     "text": [
      "Test Accuracy = 1.000\n"
     ]
    }
   ],
   "source": [
    "with tf.Session() as sess:\n",
    "    saver.restore(sess, tf.train.latest_checkpoint('.'))\n",
    "    test_accuracy = evaluate(web_x, web_y)\n",
    "    print(\"Test Accuracy = {:.3f}\".format(test_accuracy))"
   ]
  },
  {
   "cell_type": "markdown",
   "metadata": {},
   "source": [
    "### Output Top 5 Softmax Probabilities For Each Image Found on the Web"
   ]
  },
  {
   "cell_type": "code",
   "execution_count": 141,
   "metadata": {
    "collapsed": true
   },
   "outputs": [],
   "source": [
    "import numpy as np\n",
    "import matplotlib.pyplot as plt\n",
    "\n",
    "def show_image(image):\n",
    "    b,g,r = cv2.split(image)\n",
    "    image = cv2.merge([r,g,b])\n",
    "\n",
    "    plot.figure(figsize=(1,1))\n",
    "    plot.imshow(image.squeeze())\n",
    "\n",
    "def autolabel(rects, ax, classes, class_names):\n",
    "    \"\"\"\n",
    "    Attach a text label above each bar displaying its height\n",
    "    \"\"\"\n",
    "    for index in range(len(rects)):\n",
    "        rect = rects[index]\n",
    "        width = rect.get_width()\n",
    "        #y = rect.get_x() + rect.get_width()/2.\n",
    "        y = rect.get_y() + rect.get_height()/2.\n",
    "        x = 1.05*width\n",
    "#         x = 0.6\n",
    "#         x = rect.get_x() + rect.get_width()\n",
    "        ax.text(x, y,\n",
    "                '%s' % class_names[classes[index]],\n",
    "                ha='center', va='center')   \n",
    "        \n",
    "def softmaxvisuals(classes, probabilities, class_names):\n",
    "    N = len(classes)\n",
    "    ind = np.arange(N)  # the y locations\n",
    "    height = 0.75       # the height of the bars\n",
    "\n",
    "    fig, ax = plt.subplots()\n",
    "    left = np.zeros(N)\n",
    "    rects = ax.barh(left=left, bottom=ind, width=probabilities, height=height, color='g')    \n",
    "\n",
    "    autolabel(rects, ax, classes, class_names)\n",
    "    plt.show()\n",
    "\n",
    "    \n",
    "\n",
    "def readCSVFile():    \n",
    "    import csv\n",
    "    class_names={}\n",
    "    with open('./data/signnames.csv', 'rt') as csvfile:\n",
    "        spamreader = csv.reader(csvfile, delimiter=',', quotechar='|')\n",
    "        for row in spamreader:\n",
    "            key = row[0]\n",
    "            if(key.isdigit()):\n",
    "                class_names[int(key)] = row[1]\n",
    "\n",
    "    return class_names"
   ]
  },
  {
   "cell_type": "code",
   "execution_count": 142,
   "metadata": {},
   "outputs": [
    {
     "name": "stdout",
     "output_type": "stream",
     "text": [
      "TopKV2(values=array([[  1.00000000e+00,   1.43140151e-15,   7.54533268e-19,\n",
      "          8.15881519e-21,   3.36193787e-21],\n",
      "       [  9.84601736e-01,   1.37891797e-02,   1.23340229e-03,\n",
      "          9.67738815e-05,   7.66032317e-05],\n",
      "       [  2.21645772e-01,   1.24549553e-01,   1.04162887e-01,\n",
      "          8.25431272e-02,   7.86986202e-02],\n",
      "       [  9.31699038e-01,   3.09425462e-02,   1.60742141e-02,\n",
      "          5.00533357e-03,   4.91674198e-03],\n",
      "       [  9.99999404e-01,   3.12262017e-07,   2.04978107e-07,\n",
      "          5.02125763e-09,   4.67114081e-09]], dtype=float32), indices=array([[13,  5,  1, 34,  4],\n",
      "       [22, 37, 39, 21, 24],\n",
      "       [ 0, 40,  4, 11, 38],\n",
      "       [25, 12, 30, 37, 24],\n",
      "       [ 3,  2,  5, 28, 29]], dtype=int32))\n"
     ]
    },
    {
     "data": {
      "image/png": "[encoded data removed]",
      "text/plain": [
       "<matplotlib.figure.Figure at 0x11a647eb8>"
      ]
     },
     "metadata": {},
     "output_type": "display_data"
    },
    {
     "data": {
      "image/png": "[encoded data removed]",
      "text/plain": [
       "<matplotlib.figure.Figure at 0x124e99fd0>"
      ]
     },
     "metadata": {},
     "output_type": "display_data"
    },
    {
     "data": {
      "image/png": "[encoded data removed]",
      "text/plain": [
       "<matplotlib.figure.Figure at 0x117880d68>"
      ]
     },
     "metadata": {},
     "output_type": "display_data"
    },
    {
     "data": {
      "image/png": "[encoded data removed]",
      "text/plain": [
       "<matplotlib.figure.Figure at 0x146c5c668>"
      ]
     },
     "metadata": {},
     "output_type": "display_data"
    },
    {
     "data": {
      "image/png": "[encoded data removed]",
      "text/plain": [
       "<matplotlib.figure.Figure at 0x11777ae10>"
      ]
     },
     "metadata": {},
     "output_type": "display_data"
    }
   ],
   "source": [
    "softmax = tf.nn.softmax(logits=logits)\n",
    "    \n",
    "with tf.Session() as sess:\n",
    "    saver.restore(sess, tf.train.latest_checkpoint('.'))\n",
    "    TopKV2 = sess.run(tf.nn.top_k(softmax, k=5), feed_dict={x: web_x, y: web_y})\n",
    "    print(TopKV2)\n",
    "    class_names = readCSVFile()\n",
    "    readWebImages(shape=(512,512))\n",
    "    for index in range(len(TopKV2.indices)):\n",
    "#         show_image(web_x[index].squeeze())\n",
    "        softmaxvisuals(TopKV2.indices[index], TopKV2.values[index], class_names)"
   ]
  },
  {
   "cell_type": "code",
   "execution_count": null,
   "metadata": {
    "collapsed": true
   },
   "outputs": [],
   "source": []
  },
  {
   "cell_type": "code",
   "execution_count": 114,
   "metadata": {
    "collapsed": true
   },
   "outputs": [],
   "source": [
    "def outputFeatureMap(image_input, tf_activation, activation_min=-1, activation_max=-1 ,plt_num=1):\n",
    "    activation = tf_activation.eval(session=sess,feed_dict={x : image_input})\n",
    "    featuremaps = activation.shape[3]\n",
    "    plt.figure(plt_num, figsize=(15,15))\n",
    "    for featuremap in range(featuremaps):\n",
    "        plt.subplot(6,8, featuremap+1) # sets the number of feature maps to show on each row and column\n",
    "        plt.title('FeatureMap ' + str(featuremap)) # displays the feature map number\n",
    "        if activation_min != -1 & activation_max != -1:\n",
    "            plt.imshow(activation[0,:,:, featuremap], interpolation=\"nearest\", vmin =activation_min, vmax=activation_max, cmap=\"gray\")\n",
    "        elif activation_max != -1:\n",
    "            plt.imshow(activation[0,:,:, featuremap], interpolation=\"nearest\", vmax=activation_max, cmap=\"gray\")\n",
    "        elif activation_min !=-1:\n",
    "            plt.imshow(activation[0,:,:, featuremap], interpolation=\"nearest\", vmin=activation_min, cmap=\"gray\")\n",
    "        else:\n",
    "            plt.imshow(activation[0,:,:, featuremap], interpolation=\"nearest\", cmap=\"gray\")"
   ]
  },
  {
   "cell_type": "code",
   "execution_count": 115,
   "metadata": {},
   "outputs": [
    {
     "data": {
      "image/png": "[encoded data removed]",
      "text/plain": [
       "<matplotlib.figure.Figure at 0x146b34780>"
      ]
     },
     "metadata": {},
     "output_type": "display_data"
    }
   ],
   "source": [
    "with tf.Session() as sess:\n",
    "    saver.restore(sess, tf.train.latest_checkpoint('.'))\n",
    "\n",
    "    image = web_x[0] \n",
    "    outputFeatureMap(web_x, LeNet.conv1)"
   ]
  },
  {
   "cell_type": "code",
   "execution_count": 116,
   "metadata": {},
   "outputs": [
    {
     "data": {
      "image/png": "[encoded data removed]",
      "text/plain": [
       "<matplotlib.figure.Figure at 0x11764f0f0>"
      ]
     },
     "metadata": {},
     "output_type": "display_data"
    }
   ],
   "source": [
    "with tf.Session() as sess:\n",
    "    saver.restore(sess, tf.train.latest_checkpoint('.'))\n",
    "\n",
    "    image = web_x[1] \n",
    "    outputFeatureMap([image], LeNet.conv1)"
   ]
  },
  {
   "cell_type": "code",
   "execution_count": 117,
   "metadata": {},
   "outputs": [
    {
     "data": {
      "image/png": "[encoded data removed]",
      "text/plain": [
       "<matplotlib.figure.Figure at 0x117782128>"
      ]
     },
     "metadata": {},
     "output_type": "display_data"
    }
   ],
   "source": [
    "with tf.Session() as sess:\n",
    "    saver.restore(sess, tf.train.latest_checkpoint('.'))\n",
    "\n",
    "    image = web_x[2] \n",
    "    outputFeatureMap([image], LeNet.conv1)"
   ]
  },
  {
   "cell_type": "code",
   "execution_count": 118,
   "metadata": {},
   "outputs": [
    {
     "data": {
      "image/png": "[encoded data removed]",
      "text/plain": [
       "<matplotlib.figure.Figure at 0x124d880b8>"
      ]
     },
     "metadata": {},
     "output_type": "display_data"
    }
   ],
   "source": [
    "with tf.Session() as sess:\n",
    "    saver.restore(sess, tf.train.latest_checkpoint('.'))\n",
    "\n",
    "    image = web_x[3] \n",
    "    outputFeatureMap([image], LeNet.conv1)"
   ]
  },
  {
   "cell_type": "code",
   "execution_count": 119,
   "metadata": {},
   "outputs": [
    {
     "data": {
      "image/png": "[encoded data removed]",
      "text/plain": [
       "<matplotlib.figure.Figure at 0x1177f7160>"
      ]
     },
     "metadata": {},
     "output_type": "display_data"
    }
   ],
   "source": [
    "with tf.Session() as sess:\n",
    "    saver.restore(sess, tf.train.latest_checkpoint('.'))\n",
    "\n",
    "    image = web_x[4] \n",
    "    outputFeatureMap([image], LeNet.conv1)"
   ]
  },
  {
   "cell_type": "code",
   "execution_count": null,
   "metadata": {},
   "outputs": [],
   "source": [
    "import numpy as np\n",
    "import matplotlib.pyplot as plt\n",
    "\n",
    "def showVisualForSamples(title, y_values):\n",
    "    d={}\n",
    "    for k in y_values:\n",
    "        if k in d:\n",
    "            d[k] += 1\n",
    "        else:\n",
    "            d[k] = 1\n",
    "    #print(d)        \n",
    "\n",
    "    N = len(d)\n",
    "    ind = np.arange(N)  # the x locations\n",
    "    width = 0.35       # the width of the bars\n",
    "\n",
    "    rects = plt.bar(ind, d.values(), align='center', alpha=0.5)\n",
    "    #plt.xticks(ind, d.values())\n",
    "    plt.ylabel('No of samples')\n",
    "    plt.title(title)\n",
    "    plt.show()\n",
    "    \n",
    "showVisualForSamples(title='No of training samples per class', y_values=y_train)    \n",
    "showVisualForSamples(title='No of validation samples per class', y_values=y_valid)    \n",
    "showVisualForSamples(title='No of test samples per class', y_values=y_test)"
   ]
  },
  {
   "cell_type": "code",
   "execution_count": null,
   "metadata": {
    "collapsed": true
   },
   "outputs": [],
   "source": [
    "import numpy as np\n",
    "import matplotlib.pyplot as plt\n",
    "\n",
    "def showVisualForSamples(title, y_values):\n",
    "    d={}\n",
    "    for k in y_values:\n",
    "        if k in d:\n",
    "            d[k] += 1\n",
    "        else:\n",
    "            d[k] = 1\n",
    "    #print(d)        \n",
    "\n",
    "    N = len(d)\n",
    "    ind = np.arange(N)  # the x locations\n",
    "    width = 0.35       # the width of the bars\n",
    "\n",
    "    rects = plt.bar(ind, d.values(), align='center', alpha=0.5)\n",
    "    #plt.xticks(ind, d.values())\n",
    "    plt.ylabel('No of samples')\n",
    "    plt.title(title)\n",
    "    plt.show()\n",
    "    \n",
    "showVisualForSamples(title='No of training samples per class', y_values=y_train)    \n",
    "showVisualForSamples(title='No of validation samples per class', y_values=y_valid)    \n",
    "showVisualForSamples(title='No of test samples per class', y_values=y_test)"
   ]
  },
  {
   "cell_type": "code",
   "execution_count": null,
   "metadata": {
    "collapsed": true
   },
   "outputs": [],
   "source": []
  }
 ],
 "metadata": {
  "anaconda-cloud": {},
  "kernelspec": {
   "display_name": "Python 3",
   "language": "python",
   "name": "python3"
  },
  "language_info": {
   "codemirror_mode": {
    "name": "ipython",
    "version": 3
   },
   "file_extension": ".py",
   "mimetype": "text/x-python",
   "name": "python",
   "nbconvert_exporter": "python",
   "pygments_lexer": "ipython3",
   "version": "3.5.2"
  },
  "widgets": {
   "state": {},
   "version": "1.1.2"
  }
 },
 "nbformat": 4,
 "nbformat_minor": 1
}
